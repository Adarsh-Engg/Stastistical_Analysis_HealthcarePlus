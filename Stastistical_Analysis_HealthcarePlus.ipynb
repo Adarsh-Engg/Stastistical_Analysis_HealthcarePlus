{
 "cells": [
  {
   "cell_type": "markdown",
   "id": "a3041232-265d-414c-969b-846f7f80745d",
   "metadata": {},
   "source": [
    "1.HealthCare Plus recorded the daily number of patient admissions for the past 10 days:\n",
    "[32, 28, 35, 30, 29, 27, 31, 34, 33, 30]\n",
    "● Compute the mean, median, and mode of patient admissions.\n",
    "● Which measure best represents patient admissions?\n",
    "● If the hospital increases its admission capacity by 10%, how will this affect the\n",
    "measures of central tendency?"
   ]
  },
  {
   "cell_type": "code",
   "execution_count": 66,
   "id": "a6c30f26-aeb9-4ba1-852e-1266d1032660",
   "metadata": {},
   "outputs": [],
   "source": [
    "import numpy as np\n",
    "from statistics import mode\n"
   ]
  },
  {
   "cell_type": "code",
   "execution_count": 67,
   "id": "c5cde1d1-dbbd-4001-9bb2-d2b3206f50b6",
   "metadata": {},
   "outputs": [
    {
     "name": "stdout",
     "output_type": "stream",
     "text": [
      "Mean : 30.9\n",
      "Mode : 30\n",
      "Median : 30.5\n",
      "\n",
      "After 10% Increase:\n",
      "New Mean: 33.99\n",
      "New Mode: 33.0\n",
      "New Median: 33.55\n"
     ]
    },
    {
     "data": {
      "text/plain": [
       "'The analysis of central tendency measures for patient admissions shows that increasing each value by 10%\\nresults in a proportional increase in the mean,\\nand an approximate increase in the median and mode. This indicates that:\\n\\nMean is highly sensitive to proportional changes and reflects overall trends in the data.\\n\\nMedian also increases, but the extent depends on the distribution of values.\\n\\nMode changes only if the most frequent value changes.\\n\\nIn this case, all three measures increased,\\nconfirming that hospital capacity expansion would shift central tendency measures upward, helping in planning and resource allocation.'"
      ]
     },
     "execution_count": 67,
     "metadata": {},
     "output_type": "execute_result"
    }
   ],
   "source": [
    "patient_count = [32, 28, 35, 30, 29, 27, 31, 34, 33, 30]\n",
    "\n",
    "patient_mean = np.mean(patient_count)\n",
    "print(\"Mean :\", patient_mean)\n",
    "\n",
    "patient_mode = mode(patient_count)\n",
    "print(\"Mode :\", patient_mode)\n",
    "\n",
    "patient_median= np.median(patient_count)\n",
    "print(\"Median :\", patient_median)\n",
    "\n",
    "# Calculate new mean, mode, modian after 10% increase in admissions\n",
    "print(\"\\nAfter 10% Increase:\")\n",
    "increased_admissions = [x * 1.10 for x in patient_count]\n",
    "\n",
    "\n",
    "print(\"New Mean:\", new_mean)\n",
    "new_mean = np.mean(increased_admissions)\n",
    "\n",
    "print(\"New Mode:\", new_mode)\n",
    "new_mode = mode(increased_admissions) \n",
    "\n",
    "print(\"New Median:\", new_median)\n",
    "new_median = np.median(increased_admissions)\n",
    "\n",
    "\"\"\"The analysis of central tendency measures for patient admissions shows that increasing each value by 10%\n",
    "results in a proportional increase in the mean,\n",
    "and an approximate increase in the median and mode. This indicates that:\n",
    "\n",
    "Mean is highly sensitive to proportional changes and reflects overall trends in the data.\n",
    "\n",
    "Median also increases, but the extent depends on the distribution of values.\n",
    "\n",
    "Mode changes only if the most frequent value changes.\n",
    "\n",
    "In this case, all three measures increased,\n",
    "confirming that hospital capacity expansion would shift central tendency measures upward, helping in planning and resource allocation.\"\"\"\n",
    "\n",
    "\n",
    "\n"
   ]
  },
  {
   "cell_type": "markdown",
   "id": "51d63a7c-5ab8-4897-93db-a25c97e30115",
   "metadata": {},
   "source": [
    "2. The recovery duration (in days) of 10 patients who underwent the same surgery is\n",
    "recorded as follows:\n",
    "[5, 7, 6, 8, 9, 5, 6, 7, 8, 6]\n",
    "● Calculate the range, variance, and standard deviation.\n",
    "● What does the standard deviation indicate about variability in recovery times?\n",
    "● If two new patients take 4 and 10 days to recover, how will this impact the\n",
    "standard deviation?"
   ]
  },
  {
   "cell_type": "code",
   "execution_count": 69,
   "id": "953efd62-dd39-4774-abbe-985bc5c6e35c",
   "metadata": {
    "scrolled": true
   },
   "outputs": [
    {
     "name": "stdout",
     "output_type": "stream",
     "text": [
      "Range: 4\n",
      "Variance: 1.61\n",
      "Standard Deviation: 1.27\n",
      "\n",
      "After adding 4 and 10 days:\n",
      "New Standard Deviation: 1.69\n"
     ]
    },
    {
     "data": {
      "text/plain": [
       "'\\nAt first, most patients took around the same number of days to recover. \\nThe standard deviation was 1.27, which means recovery times didn’t vary much.\\n\\nBut after adding two new patients — one who recovered very quickly (4 days) and another who took longer (10 days) — \\nthe standard deviation increased to 1.69. This shows that recovery times became more spread out.\\n\\nSo, there is now more difference between how fast or slow patients are recovering. \\nThis could mean the hospital may need to look into why some patients are recovering faster or slower than others.\\n\\n'"
      ]
     },
     "execution_count": 69,
     "metadata": {},
     "output_type": "execute_result"
    }
   ],
   "source": [
    "\n",
    "# Original recovery days\n",
    "recovery_days = [5, 7, 6, 8, 9, 5, 6, 7, 8, 6]\n",
    "\n",
    "# Calculate range max - min \n",
    "range_rec = max(recovery_days) - min(recovery_days)\n",
    "print(\"Range:\", range_rec)\n",
    "\n",
    "# Population variance and standard deviation\n",
    "variance = np.var(recovery_days)\n",
    "std_dev = np.std(recovery_days)\n",
    "\n",
    "print(\"Variance: {:.2f}\".format(variance))\n",
    "print(\"Standard Deviation: {:.2f}\".format(std_dev))\n",
    "\n",
    "# After adding two new patients\n",
    "updated_days = recovery_days + [4, 10]\n",
    "new_std_dev = np.std(updated_days)\n",
    "print(\"\\nAfter adding 4 and 10 days:\")\n",
    "print(\"New Standard Deviation: {:.2f}\".format(new_std_dev))\n",
    "\n",
    "\"\"\"\n",
    "At first, most patients took around the same number of days to recover. \n",
    "The standard deviation was 1.27, which means recovery times didn’t vary much.\n",
    "\n",
    "But after adding two new patients — one who recovered very quickly (4 days) and another who took longer (10 days) — \n",
    "the standard deviation increased to 1.69. This shows that recovery times became more spread out.\n",
    "\n",
    "So, there is now more difference between how fast or slow patients are recovering. \n",
    "This could mean the hospital may need to look into why some patients are recovering faster or slower than others.\n",
    "\n",
    "\"\"\"\n"
   ]
  },
  {
   "cell_type": "markdown",
   "id": "ab06a8b2-025d-4901-8118-13551bfa433b",
   "metadata": {},
   "source": [
    "3. Patient satisfaction scores (on a scale of 1 to 10) collected from a hospital survey\n",
    "are:\n",
    "[8, 9, 7, 8, 10, 7, 9, 6, 10, 8, 7, 9]\n",
    "● Compute skewness and kurtosis.\n",
    "● Interpret the results—does the data suggest a normal distribution?\n",
    "● If the hospital implements a new customer service initiative and satisfaction\n",
    "scores shift higher, what type of skewness change would you expect?"
   ]
  },
  {
   "cell_type": "code",
   "execution_count": 101,
   "id": "2637dbba-749e-4f83-81d7-fa3ab0a2ccc2",
   "metadata": {},
   "outputs": [
    {
     "name": "stdout",
     "output_type": "stream",
     "text": [
      "Skewness: -0.04\n",
      "Excess Kurtosis: -1.01\n",
      "Kurtosis (including baseline): 1.99\n"
     ]
    }
   ],
   "source": [
    "from scipy.stats import skew, kurtosis\n",
    "\n",
    "scores = [8, 9, 7, 8, 10, 7, 9, 6, 10, 8, 7, 9]\n",
    "\n",
    "# Skewness\n",
    "skew_val = skew(scores)\n",
    "print(\"Skewness: {:.2f}\".format(skew_val))\n",
    "\n",
    "# Excess Kurtosis (0 = normal distribution)\n",
    "kurtosis_val = kurtosis(scores)\n",
    "print(\"Excess Kurtosis: {:.2f}\".format(kurtosis_val))\n",
    "\n",
    "# If you want actual kurtosis (normal = 3)\n",
    "print(\"Kurtosis (including baseline): {:.2f}\".format(kurtosis_val + 3))\n",
    "\n"
   ]
  },
  {
   "cell_type": "markdown",
   "id": "0c1b3b3a-1f24-4174-a718-66d077ec5599",
   "metadata": {},
   "source": [
    "The skewness of the patient satisfaction scores is -0.04, which is very close to zero.\n",
    "This indicates that the data is almost symmetric, with no strong skew in either direction.\n",
    "\n",
    "The kurtosis is 1.99, which is less than 3, suggesting a flatter distribution than a normal bell curve. \n",
    "This means there are fewer extreme satisfaction scores (less variation).\n",
    "\n",
    "Overall, the satisfaction scores are approximately normally distributed.\n",
    "\n",
    "If a new customer service initiative leads to higher satisfaction scores, we expect the distribution to become negatively skewed (more scores near 10, tail on the left)"
   ]
  },
  {
   "cell_type": "markdown",
   "id": "3de89830-d027-4185-afd5-adc59ec4c357",
   "metadata": {},
   "source": [
    "4. HealthCare Plus wants to analyze the relationship between nurse staffing levels and\n",
    "patient recovery time. Data from 6 hospital departments is provided:\n",
    "Number of\n",
    "Nurses\n",
    "Average Recovery Time\n",
    "(days)\n",
    "10 8\n",
    "12 7\n",
    "15 6\n",
    "18 5\n",
    "20 4\n",
    "22 3\n",
    "● Compute the correlation coefficient between nurse staffing and patient recovery\n",
    "time.\n",
    "● If the hospital increases the number of nurses by 5 per department, how will this\n",
    "affect the recovery time based on the trend?"
   ]
  },
  {
   "cell_type": "code",
   "execution_count": 73,
   "id": "ac42e04f-8850-4e41-ad46-1b03ef8550bc",
   "metadata": {},
   "outputs": [
    {
     "name": "stdout",
     "output_type": "stream",
     "text": [
      "Correlation Coefficient (r): -1.00\n"
     ]
    }
   ],
   "source": [
    "\n",
    "from scipy.stats import pearsonr\n",
    "\n",
    "#\n",
    "nurses = [10, 12, 15, 18, 20, 22]\n",
    "recovery_time = [8, 7, 6, 5, 4, 3]\n",
    "\n",
    "# Calculate Pearson correlation coefficient\n",
    "corr_coef, _ = pearsonr(nurses, recovery_time)\n",
    "print(\"Correlation Coefficient (r): {:.2f}\".format(corr_coef))\n",
    "\n"
   ]
  },
  {
   "cell_type": "markdown",
   "id": "bf22248c-b21f-45af-91d4-036c3206249a",
   "metadata": {},
   "source": [
    "A perfect negative linear relationship between the number of nurses and patient recovery time.\n",
    "\n",
    "As the number of nurses increases, recovery time decreases consistently.\n",
    "\n",
    "It implies that more staff helps patients recover faster"
   ]
  },
  {
   "cell_type": "markdown",
   "id": "1270ff6e-b1ce-4be6-b5f0-6e0e2c3ed16a",
   "metadata": {},
   "source": [
    "The correlation suggests: every 2 extra nurses → 1 day shorter recover\n",
    "\n",
    "We found that when the hospital increases the number of nurses, patients recover faster.\n",
    "\n",
    "The relationship is perfectly negative, meaning more nurses = less time to recover. If the hospital hires 5 more nurses in each department, \n",
    "the number of nurses becomes:\n",
    "[15, 17, 20, 23, 25, 27]\n",
    "based on the current pattern, recovery times may reduce by 2 to 3 days.\n",
    "\n"
   ]
  },
  {
   "cell_type": "markdown",
   "id": "9c698d02-1ee9-421f-b762-d8ab56fa6a88",
   "metadata": {},
   "source": [
    "5. The hospital claims that the average patient wait time in the emergency department\n",
    "is 30 minutes. A sample of 10 patient wait times (in minutes) is recorded:\n",
    "[32, 29, 31, 34, 33, 27, 30, 28, 35, 26]\n",
    "● Test whether the hospital’s claim is valid at a 5% significance level.\n",
    "● State the null and alternative hypotheses.\n",
    "● If the wait time significantly exceeds 30 minutes, what changes should the\n",
    "hospital implement to reduce waiting time?"
   ]
  },
  {
   "cell_type": "code",
   "execution_count": 77,
   "id": "3af07a0a-3e72-42fd-abe9-b734b455b3a5",
   "metadata": {},
   "outputs": [
    {
     "name": "stdout",
     "output_type": "stream",
     "text": [
      "T-statistic: 0.52\n",
      "P-value: 0.6141\n",
      "Fail to reject the null hypothesis: No significant evidence against the hospital’s claim.\n"
     ]
    },
    {
     "data": {
      "text/plain": [
       "'\\nNull Hypothesis (H₀)= The average wait time is 30 minutes.\\nAlternative Hypothesis (H₁) =! The average wait time is not 30 minutes.\\nA one-sample t-test was performed with a 5% significance level.\\nSince the p-value is greater than 0.05, we fail to reject the null hypothesis.\\nThis means there is no significant evidence that the actual average wait time is different from 30 minutes.\\n\\n'"
      ]
     },
     "execution_count": 77,
     "metadata": {},
     "output_type": "execute_result"
    }
   ],
   "source": [
    "import numpy as np\n",
    "from scipy.stats import ttest_1samp\n",
    "\n",
    "# Sample data\n",
    "wait_times = [32, 29, 31, 34, 33, 27, 30, 28, 35, 26]\n",
    "\n",
    "# Perform one-sample t-test\n",
    "t_stat, p_value = ttest_1samp(wait_times, popmean=30)\n",
    "\n",
    "# Results\n",
    "print(\"T-statistic: {:.2f}\".format(t_stat))\n",
    "print(\"P-value: {:.4f}\".format(p_value))\n",
    "\n",
    "# Decision based on 5% significance level\n",
    "if p_value < 0.05:\n",
    "    print(\"Reject the null hypothesis: The average wait time is significantly different from 30 minutes.\")\n",
    "else:\n",
    "    print(\"Fail to reject the null hypothesis: No significant evidence against the hospital’s claim.\")\n",
    "\n",
    "\"\"\"\n",
    "Null Hypothesis (H₀)= The average wait time is 30 minutes.\n",
    "Alternative Hypothesis (H₁) =! The average wait time is not 30 minutes.\n",
    "A one-sample t-test was performed with a 5% significance level.\n",
    "Since the p-value is greater than 0.05, we fail to reject the null hypothesis.\n",
    "This means there is no significant evidence that the actual average wait time is different from 30 minutes.\n",
    "\n",
    "\"\"\"\n"
   ]
  },
  {
   "cell_type": "markdown",
   "id": "da498ea7-5ce3-4000-a736-6eb018ea9dea",
   "metadata": {},
   "source": [
    "6. A survey was conducted on hospital cleanliness and patient satisfaction. The\n",
    "following data was collected:\n",
    "Cleanliness\n",
    "Rating\n",
    "Satisfied\n",
    "Patients\n",
    "Unsatisfied\n",
    "Patients\n",
    "High 90 10\n",
    "Medium 60 40\n",
    "Low 30 70\n",
    "● Perform an analysis to check whether hospital cleanliness and patient\n",
    "satisfaction are dependent.\n",
    "● If cleanliness ratings improve, how do you expect the distribution of satisfied and\n",
    "unsatisfied patients to change\n"
   ]
  },
  {
   "cell_type": "code",
   "execution_count": 79,
   "id": "79ceebdc-3974-4f68-8743-9e2548d65c65",
   "metadata": {},
   "outputs": [
    {
     "name": "stdout",
     "output_type": "stream",
     "text": [
      "Chi-Square Statistic: 75.00\n",
      "P-value: 0.0000\n",
      "Degrees of Freedom: 2\n",
      "Expected Frequencies:\n",
      " [[60. 40.]\n",
      " [60. 40.]\n",
      " [60. 40.]]\n",
      "\n",
      "Reject the null hypothesis: Cleanliness and satisfaction are dependent.\n"
     ]
    },
    {
     "data": {
      "text/plain": [
       "'\\nThe test returned a very low p-value (p < 0.05), leading us to reject the null hypothesis.\\n\\nThis means that cleanliness and satisfaction are dependent — higher cleanliness levels are associated with greater patient satisfaction.\\n\\nIf cleanliness improves across the hospital, we can expect a high satisfied patients and a reduction in dissatisfaction.\\n'"
      ]
     },
     "execution_count": 79,
     "metadata": {},
     "output_type": "execute_result"
    }
   ],
   "source": [
    "import numpy as np\n",
    "from scipy.stats import chi2_contingency\n",
    "\n",
    "# Contingency table\n",
    "data = np.array([\n",
    "    [90, 10],   # High cleanliness\n",
    "    [60, 40],   # Medium\n",
    "    [30, 70]    # Low\n",
    "])\n",
    "\n",
    "# Performing chi-square test\n",
    "chi2, p, dof, expected = chi2_contingency(data)\n",
    "\n",
    "# Print results\n",
    "print(\"Chi-Square Statistic: {:.2f}\".format(chi2))\n",
    "print(\"P-value: {:.4f}\".format(p))\n",
    "print(\"Degrees of Freedom:\", dof)\n",
    "print(\"Expected Frequencies:\\n\", expected)\n",
    "\n",
    "# checking hypothesis \n",
    "if p < 0.05:\n",
    "    print(\"\\nReject the null hypothesis: Cleanliness and satisfaction are dependent.\")\n",
    "else:\n",
    "    print(\"\\nFail to reject the null hypothesis: No evidence of dependency.\")\n",
    "\n",
    "\n",
    "\"\"\"\n",
    "The test returned a very low p-value (p < 0.05), leading us to reject the null hypothesis.\n",
    "\n",
    "This means that cleanliness and satisfaction are dependent — higher cleanliness levels are associated with greater patient satisfaction.\n",
    "\n",
    "If cleanliness improves across the hospital, we can expect a high satisfied patients and a reduction in dissatisfaction.\n",
    "\"\"\"\n",
    "\n",
    "\n",
    "\n"
   ]
  },
  {
   "cell_type": "markdown",
   "id": "68bb0c6a-6a9c-44c7-a748-987717dfe453",
   "metadata": {},
   "source": [
    "7. The hospital tested three different treatment methods (A, B, and C) for managing\n",
    "post-surgery pain. The recovery durations (in days) under each treatment are:\n",
    "● Treatment A: [5, 6, 7, 5, 6]\n",
    "● Treatment B: [8, 9, 7, 8, 10]\n",
    "● Treatment C: [4, 5, 6, 5, 4]\n",
    "● Conduct an analysis to check if there is a significant difference in recovery times\n",
    "among the treatment methods.\n",
    "● State the null and alternative hypotheses.\n",
    "● If the hospital introduces a new treatment (D), what data should be collected\n",
    "before concluding its effectiveness?"
   ]
  },
  {
   "cell_type": "code",
   "execution_count": 81,
   "id": "410dafb7-a2d4-4062-82ca-c2a90dcf0e3c",
   "metadata": {},
   "outputs": [
    {
     "name": "stdout",
     "output_type": "stream",
     "text": [
      "F-statistic: 19.19\n",
      "P-value: 0.0002\n",
      "Reject the null hypothesis: At least one treatment is significantly different.\n"
     ]
    },
    {
     "data": {
      "text/plain": [
       "'\\nA one-way ANOVA was performed to compare average recovery times across Treatment A, B, and C.\\nThe result gave an F-statistic of 19.19 and a p-value of 0.0002.\\n\\nSince the p-value is less than the 5% significance level, we reject the null hypothesis.\\nThis means there is a significant difference in recovery times among at least one of the treatment groups.\\n'"
      ]
     },
     "execution_count": 81,
     "metadata": {},
     "output_type": "execute_result"
    }
   ],
   "source": [
    "from scipy.stats import f_oneway\n",
    "\n",
    "# Data\n",
    "treatment_A = [5, 6, 7, 5, 6]\n",
    "treatment_B = [8, 9, 7, 8, 10]\n",
    "treatment_C = [4, 5, 6, 5, 4]\n",
    "\n",
    "# Perform ANOVA\n",
    "f_stat, p_value = f_oneway(treatment_A, treatment_B, treatment_C)\n",
    "\n",
    "# Print results\n",
    "print(\"F-statistic: {:.2f}\".format(f_stat))\n",
    "print(\"P-value: {:.4f}\".format(p_value))\n",
    "\n",
    "# Decision based on p-value ( Checking Hypothesis)\n",
    "if p_value < 0.05:\n",
    "    print(\"Reject the null hypothesis: At least one treatment is significantly different.\")\n",
    "else:\n",
    "    print(\"Fail to reject the null hypothesis: No significant difference among treatments.\")\n",
    "\n",
    "\n",
    "\"\"\"\n",
    "A one-way ANOVA was performed to compare average recovery times across Treatment A, B, and C.\n",
    "The result gave an F-statistic of 19.19 and a p-value of 0.0002.\n",
    "\n",
    "Since the p-value is less than the 5% significance level, we reject the null hypothesis.\n",
    "This means there is a significant difference in recovery times among at least one of the treatment groups.\n",
    "\"\"\"\n"
   ]
  },
  {
   "cell_type": "code",
   "execution_count": 82,
   "id": "40d0d7b3-a5cd-42cb-b958-79cae2116a8c",
   "metadata": {},
   "outputs": [
    {
     "data": {
      "image/png": "[encoded data removed]",
      "text/plain": [
       "<Figure size 1400x400 with 3 Axes>"
      ]
     },
     "metadata": {},
     "output_type": "display_data"
    },
    {
     "name": "stdout",
     "output_type": "stream",
     "text": [
      "Shapiro-Wilk Test:\n",
      "Statistic: 0.9709, P-value: 0.9201\n",
      " Data is likely normal (fail to reject H0).\n"
     ]
    }
   ],
   "source": [
    "import numpy as np\n",
    "import matplotlib.pyplot as plt\n",
    "import seaborn as sns\n",
    "from scipy.stats import shapiro, probplot\n",
    "\n",
    "# Data\n",
    "admin_times = [12, 15, 14, 16, 18, 13, 14, 17, 15, 19, 16, 14]\n",
    "\n",
    "# Histogram\n",
    "plt.figure(figsize=(14, 4))\n",
    "\n",
    "plt.subplot(1, 3, 1)\n",
    "sns.histplot(admin_times, bins=6, kde=True, color='skyblue')\n",
    "plt.title('Histogram')\n",
    "\n",
    "# Boxplot\n",
    "plt.subplot(1, 3, 2)\n",
    "sns.boxplot(x=admin_times, color='lightgreen')\n",
    "plt.title('Boxplot')\n",
    "\n",
    "# Q-Q Plot\n",
    "plt.subplot(1, 3, 3)\n",
    "probplot(admin_times, dist=\"norm\", plot=plt)\n",
    "plt.title('Q-Q Plot')\n",
    "\n",
    "plt.tight_layout()\n",
    "plt.show()\n",
    "\n",
    "# Shapiro-Wilk Test\n",
    "stat, p = shapiro(admin_times)\n",
    "print(\"Shapiro-Wilk Test:\")\n",
    "print(\"Statistic: {:.4f}, P-value: {:.4f}\".format(stat, p))\n",
    "\n",
    "# Interpretation\n",
    "if p > 0.05:\n",
    "    print(\" Data is likely normal (fail to reject H0).\")\n",
    "else:\n",
    "    print(\" Data is not normally distributed (reject H0).\")\n"
   ]
  },
  {
   "cell_type": "raw",
   "id": "1b65f319-ec58-4780-9b0a-feb13b1e5e1e",
   "metadata": {},
   "source": [
    "A Shapiro-Wilk test was done to check if administration times are normally distributed.\n",
    "The p-value was 0.9201, which is much higher than 0.05, so we assume the data is normal.\n",
    "This means administration times are fairly consistent and predictable.\n",
    "If emergency cases increase, delays may rise, and the data could become skewed (more long wait times)."
   ]
  },
  {
   "cell_type": "markdown",
   "id": "21f9cc96-8da6-40bd-b87a-e3f33f054629",
   "metadata": {},
   "source": [
    "9. The hospital is studying the distribution of patient arrival times in the emergency\n",
    "department. Historical data suggests that emergency cases arrive at an average rate of\n",
    "5 per hour.\n",
    "● Model this scenario using an appropriate probability distribution.\n",
    "● What is the probability that exactly 3 emergency cases will arrive in the next\n",
    "hour?\n",
    "● If a major accident occurs in the city, how would this affect the probability\n",
    "distribution of emergency arrivals?"
   ]
  },
  {
   "cell_type": "code",
   "execution_count": 84,
   "id": "ae458c91-6ca4-4c49-97f3-6af9de9322c9",
   "metadata": {},
   "outputs": [
    {
     "name": "stdout",
     "output_type": "stream",
     "text": [
      "Probability of exactly 3 emergency cases: 0.1404\n"
     ]
    }
   ],
   "source": [
    "from scipy.stats import poisson\n",
    "\n",
    "# data Given\n",
    "λ = 5  # average cases per hour\n",
    "k = 3  # number of cases we want to find the probability for\n",
    "\n",
    "# Calculate probability\n",
    "prob = poisson.pmf(k, λ)\n",
    "print(\"Probability of exactly 3 emergency cases:\", round(prob, 4))\n"
   ]
  },
  {
   "cell_type": "markdown",
   "id": "6b7c3ce3-851c-40d9-9d1e-bb88891e0352",
   "metadata": {},
   "source": [
    "The arrival of emergency cases follows a Poisson distribution with an average of 5 cases per hour.\n",
    "The probability of exactly 3 cases in the next hour is 14.04%.\n",
    "If a major accident occurs, the average arrival rate (λ) will increase, and higher emergency counts will become more likely"
   ]
  },
  {
   "cell_type": "markdown",
   "id": "2fa997da-4b14-4fe7-91cc-5ebf9ef307b2",
   "metadata": {},
   "source": [
    "10. The number of surgeries performed per day in the hospital follows a specific\n",
    "distribution pattern. Historical data shows the following frequencies:\n",
    "Surgeries\n",
    "Performed\n",
    "Frequency\n",
    "0 5\n",
    "1 12\n",
    "2 18\n",
    "3 22\n",
    "4 15\n",
    "5 8\n",
    "● Identify and justify the type of probability distribution that best fits this data.\n",
    "● Calculate the expected number of surgeries performed per day.\n",
    "● If a new surgical team is hired, how will this affect the probability distribution of\n",
    "daily surgeries?\n"
   ]
  },
  {
   "cell_type": "code",
   "execution_count": 87,
   "id": "2c2832d9-7deb-4356-acbf-67506b613ba3",
   "metadata": {},
   "outputs": [
    {
     "name": "stdout",
     "output_type": "stream",
     "text": [
      "Expected number of surgeries per day: 2.67\n"
     ]
    }
   ],
   "source": [
    "# Data\n",
    "surgeries = [0, 1, 2, 3, 4, 5]\n",
    "frequencies = [5, 12, 18, 22, 15, 8]\n",
    "\n",
    "# Total number of days (sum of frequencies)\n",
    "total_days = sum(frequencies)\n",
    "\n",
    "# Calculate expected value manually\n",
    "numerator = 0\n",
    "for i in range(len(surgeries)):\n",
    "    numerator += surgeries[i] * frequencies[i]\n",
    "\n",
    "expected_value = numerator / total_days\n",
    "\n",
    "print(\"Expected number of surgeries per day:\", round(expected_value, 2))\n",
    "\n"
   ]
  },
  {
   "cell_type": "markdown",
   "id": "41f51ec7-bc9c-4a53-9eb2-230dff37b263",
   "metadata": {},
   "source": [
    "The number of surgeries performed per day follows a Poisson distribution, as it models discrete count data.\n",
    "Based on the frequency data, the expected number of surgeries per day is 2.67.\n",
    "If a new surgical team is hired, we expect the average number of surgeries to increase, shifting the distribution toward higher counts."
   ]
  },
  {
   "cell_type": "code",
   "execution_count": null,
   "id": "306cc163-22c6-44ae-8b3e-af13fa18a60d",
   "metadata": {},
   "outputs": [],
   "source": []
  }
 ],
 "metadata": {
  "kernelspec": {
   "display_name": "Python 3 (ipykernel)",
   "language": "python",
   "name": "python3"
  },
  "language_info": {
   "codemirror_mode": {
    "name": "ipython",
    "version": 3
   },
   "file_extension": ".py",
   "mimetype": "text/x-python",
   "name": "python",
   "nbconvert_exporter": "python",
   "pygments_lexer": "ipython3",
   "version": "3.12.7"
  }
 },
 "nbformat": 4,
 "nbformat_minor": 5
}
